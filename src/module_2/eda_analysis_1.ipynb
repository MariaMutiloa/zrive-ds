{
 "cells": [
  {
   "cell_type": "code",
   "execution_count": null,
   "id": "5ec9949b-6967-4abc-b0c0-e4934d65bef1",
   "metadata": {},
   "outputs": [],
   "source": [
    "Dataset Orders:\n",
    "Tamaño: El dataset tiene 8,773 registros y 6 columnas.\n",
    "Datos de usuario: Cada pedido está asociado a un usuario, pero hay 4,983 usuarios únicos. Esto sugiere que algunos usuarios han realizado múltiples pedidos.\n",
    "Secuencia de pedidos: Los usuarios generalmente realizan su primer pedido (la secuencia de pedidos está en 1 para la mayoría de los registros), pero hay variaciones en el número de pedidos por usuario, con un valor máximo de hasta 25 pedidos.\n",
    "Tipos de columnas: Los datos de pedidos incluyen información como identificadores de pedido, usuario, fecha de creación, y los artículos ordenados, que están almacenados en listas."
   ]
  },
  {
   "cell_type": "code",
   "execution_count": null,
   "id": "26ccecce",
   "metadata": {},
   "outputs": [],
   "source": [
    "Dataset Regulars:\n",
    "Tamaño: Contiene 18,105 registros y 3 columnas.\n",
    "Datos de usuarios frecuentes: Se identifican 1,448 usuarios únicos que han realizado compras regulares. Algunos usuarios aparecen muchas veces, como uno que tiene hasta 726 registros asociados.\n",
    "Duplicados: Se encontraron 123 duplicados en este dataset.\n",
    "Distribución temporal: Los registros datan desde el 30 de abril de 2020 hasta el 14 de marzo de 2022, lo que podría ser útil para analizar las tendencias de compra de usuarios regulares a lo largo del tiempo."
   ]
  },
  {
   "cell_type": "code",
   "execution_count": null,
   "id": "0f0289a9",
   "metadata": {},
   "outputs": [],
   "source": [
    "Dataset Abandoned Cart:\n",
    "Tamaño: 5,457 registros y 4 columnas.\n",
    "Carros abandonados: Hay 3,439 usuarios únicos que han abandonado sus carritos de compra, y 4,918 variantes de productos. El usuario más frecuente tiene 10 carritos abandonados.\n",
    "Distribución temporal: El rango de tiempo para estos datos es entre mayo de 2020 y marzo de 2022."
   ]
  },
  {
   "cell_type": "code",
   "execution_count": null,
   "id": "c9845ba7",
   "metadata": {},
   "outputs": [],
   "source": [
    "Dataset Inventory:\n",
    "Tamaño: 1,733 registros y 6 columnas.\n",
    "Variantes de productos: Hay 412 proveedores únicos y 59 tipos de productos diferentes en el inventario. La frecuencia de algunos productos es alta, como Biona, que aparece 69 veces.\n",
    "Precios: Los precios de los productos varían considerablemente, con un mínimo de 0 y un máximo de 59.99. El precio promedio es de 6.31, con un precio de comparación promedio de 7.03."
   ]
  },
  {
   "cell_type": "code",
   "execution_count": null,
   "id": "4c49812a",
   "metadata": {},
   "outputs": [],
   "source": [
    "Dataset Users:\n",
    "Tamaño: 4,983 registros y 10 columnas.\n",
    "Segmentación de usuarios: Todos los usuarios están categorizados en diferentes segmentos y ubicaciones geográficas (NUTS1), aunque hay 51 valores faltantes en la columna \"user_nuts1\".\n",
    "Datos demográficos incompletos: Hay un alto número de valores faltantes en las columnas relacionadas con las características demográficas, como el número de personas, adultos, niños, bebés y mascotas en los hogares. Estas columnas tienen más de 4,600 valores faltantes, lo que puede limitar los análisis basados en esta información.\n",
    "Duplicados: No se encontraron duplicados en este dataset."
   ]
  },
  {
   "cell_type": "code",
   "execution_count": null,
   "id": "bf1fa2b1",
   "metadata": {},
   "outputs": [],
   "source": [
    "Conclusiones generales:\n",
    "Calidad de los datos: Los datasets no presentan valores faltantes significativos (excepto en el dataset de \"Users\" en las columnas demográficas).\n",
    "Distribución temporal: Los datos cubren un período entre abril de 2020 y marzo de 2022, lo que permite realizar análisis de tendencias a lo largo del tiempo para los pedidos, carros abandonados y usuarios frecuentes.\n",
    "Estrategias de análisis: El dataset de \"Orders\" y \"Regulars\" podría ser útil para identificar patrones de compra, retención de usuarios y su comportamiento. El dataset de \"Abandoned Cart\" ofrece una buena oportunidad para explorar por qué ciertos productos no se completan en la compra. Además, el análisis del inventario puede proporcionar información sobre la variedad de productos y su relación con los precios."
   ]
  }
 ],
 "metadata": {
  "kernelspec": {
   "display_name": "Python 3 (ipykernel)",
   "language": "python",
   "name": "python3"
  },
  "language_info": {
   "codemirror_mode": {
    "name": "ipython",
    "version": 3
   },
   "file_extension": ".py",
   "mimetype": "text/x-python",
   "name": "python",
   "nbconvert_exporter": "python",
   "pygments_lexer": "ipython3",
   "version": "3.11.0"
  }
 },
 "nbformat": 4,
 "nbformat_minor": 5
}
