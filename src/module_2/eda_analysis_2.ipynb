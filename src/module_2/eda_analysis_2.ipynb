{
 "cells": [
  {
   "cell_type": "code",
   "execution_count": null,
   "id": "fd866e94",
   "metadata": {
    "vscode": {
     "languageId": "plaintext"
    }
   },
   "outputs": [],
   "source": [
    "Calidad de los datos:\n",
    "Los datos del dataset están en buen estado, sin valores nulos ni duplicados."
   ]
  },
  {
   "cell_type": "code",
   "execution_count": null,
   "id": "7e2963ae",
   "metadata": {
    "vscode": {
     "languageId": "plaintext"
    }
   },
   "outputs": [],
   "source": [
    "Dataset Box Builder:\n",
    "Tamaño del Dataset:El dataset contiene 2,880,549 registros y 27 columnas.\n",
    "\n",
    "Datos de Productos y Compras:\n",
    "    Productos: Cada registro está asociado a un variant_id, representando una variante de un producto. Las variantes están categorizadas por product_type (como \"ricepastapulses\").\n",
    "    Usuarios: Las compras están asociadas a un user_id, lo que permite identificar la actividad de compra de cada usuario. También se tiene la columna user_order_seq, que indica la secuencia de pedidos de cada usuario.\n",
    "    Secuencia de Pedidos: La columna user_order_seq indica el número de veces que un usuario ha realizado un pedido. \n",
    "\n",
    "Tipos de Datos:\n",
    "    Las columnas incluyen identificadores (variant_id, order_id, user_id), fechas (created_at, order_date), variables numéricas (normalised_price, discount_pct, global_popularity), y booleanas (outcome, ordered_before, abandoned_before, etc.).\n",
    "    Outcome (Comprado/No Comprado): La columna outcome es fundamental, pues indica si el producto fue comprado (outcome = 1) o no (outcome = 0), permitiendo análisis sobre comportamiento de compra."
   ]
  },
  {
   "cell_type": "code",
   "execution_count": null,
   "id": "90faff71",
   "metadata": {
    "vscode": {
     "languageId": "plaintext"
    }
   },
   "outputs": [],
   "source": [
    "Análisis general:\n",
    "Se observa claramente que la gran mayoría de los productos en el conjunto de datos no fueron comprados (outcome = 0). La barra que representa los \"no comprados\" (0) es mucho más alta, mientras que la barra de \"comprados\" (1) es muy pequeña.\n",
    "Esto indica un desequilibrio significativo en el conjunto de datos, lo que significa que en la mayoría de los casos, los productos no se compraron.\n",
    "La distribución está fuertemente sesgada hacia la izquierda, con la gran mayoría de los precios normalizados concentrándose en el rango bajo, especialmente entre 0 y 0.3.\n",
    "Esto sugiere que la mayoría de los productos en el conjunto de datos tienen precios relativamente bajos. Dado que se trata de precios normalizados, esto podría reflejar una tendencia de la plataforma de vender productos más económicos.\n",
    "No hay una diferencia clara en la distribución de precios normalizados entre los grupos que compraron y los que no:\n",
    "    Media similar: Tanto el grupo que compró como el que no compraron presentan una media de precio normalizado similar. Esto sugiere que, en promedio, el precio no parece ser un factor determinante para la decisión de compra.\n",
    "    Rango similar: La caja de ambos grupos tiene un tamaño similar, lo que indica que la dispersión de los precios normalizados es comparable entre ambos grupos.\n",
    "Presencia de outliers:\n",
    "    En ambos grupos se observan outliers (puntos individuales fuera de los bigotes). Estos outliers podrían corresponder a productos con precios extremadamente altos o bajos, o a situaciones especiales que no siguen el patrón general.\n",
    "\n",
    "El descuento no es un factor determinante: Basándonos en este análisis, parece que ofrecer un descuento más alto no garantiza necesariamente que un cliente realice una compra.\n",
    "\n",
    "Los clientes repetidores compran más: La barra correspondiente a los clientes que han comprado previamente (ordered_before = 1) y que volvieron a comprar (Outcome = 1) es significativamente más alta que las otras barras. Esto indica que los clientes que ya han realizado una compra tienen una mayor probabilidad de realizar compras futuras.\n",
    "Los clientes nuevos tienen una tasa de conversión más baja: La barra correspondiente a los clientes nuevos (ordered_before = 0) que realizaron una compra (Outcome = 1) es mucho más baja. Esto sugiere que la tasa de conversión de los clientes nuevos es menor comparada con la de los clientes repetidores.\n",
    "Esto indica la importancia de la retención de clientes. Los clientes existentes son más valiosos para la empresa, ya que tienen una mayor probabilidad de realizar compras repetidas.Por ende, Es fundamental implementar estrategias para fomentar la lealtad de los clientes y convertirlos en clientes recurrentes."
   ]
  }
 ],
 "metadata": {
  "kernelspec": {
   "display_name": "Python 3 (ipykernel)",
   "language": "python",
   "name": "python3"
  },
  "language_info": {
   "codemirror_mode": {
    "name": "ipython",
    "version": 3
   },
   "file_extension": ".py",
   "mimetype": "text/x-python",
   "name": "python",
   "nbconvert_exporter": "python",
   "pygments_lexer": "ipython3",
   "version": "3.11.0"
  }
 },
 "nbformat": 4,
 "nbformat_minor": 5
}
